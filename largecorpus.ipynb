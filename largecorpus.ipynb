{
  "nbformat": 4,
  "nbformat_minor": 0,
  "metadata": {
    "colab": {
      "name": "largecorpus.ipynb",
      "provenance": [],
      "collapsed_sections": []
    },
    "kernelspec": {
      "name": "python3",
      "display_name": "Python 3"
    }
  },
  "cells": [
    {
      "cell_type": "code",
      "metadata": {
        "id": "R4tJOd7fw2ht",
        "colab_type": "code",
        "colab": {}
      },
      "source": [
        "import librosa   #for audio processing\n",
        "import IPython.display as ipd\n",
        "import matplotlib.pyplot as plt\n",
        "import os\n",
        "import soundfile as sf\n",
        "import numpy as np\n",
        "from scipy.io import wavfile #for audio processing\n",
        "import warnings\n",
        "warnings.filterwarnings(\"ignore\")"
      ],
      "execution_count": 0,
      "outputs": []
    },
    {
      "cell_type": "code",
      "metadata": {
        "id": "lXEQ7py58dcs",
        "colab_type": "code",
        "outputId": "f41b1019-e506-44f2-8072-754f56542a17",
        "colab": {
          "base_uri": "https://localhost:8080/",
          "height": 71
        }
      },
      "source": [
        "!pip install soundfile"
      ],
      "execution_count": 2,
      "outputs": [
        {
          "output_type": "stream",
          "text": [
            "Requirement already satisfied: soundfile in /usr/local/lib/python3.6/dist-packages (0.10.3.post1)\n",
            "Requirement already satisfied: cffi>=1.0 in /usr/local/lib/python3.6/dist-packages (from soundfile) (1.14.0)\n",
            "Requirement already satisfied: pycparser in /usr/local/lib/python3.6/dist-packages (from cffi>=1.0->soundfile) (2.20)\n"
          ],
          "name": "stdout"
        }
      ]
    },
    {
      "cell_type": "code",
      "metadata": {
        "id": "pvRSWR-H3_bg",
        "colab_type": "code",
        "outputId": "cc54bdb3-03b3-4b18-898f-b0919f85700f",
        "colab": {
          "base_uri": "https://localhost:8080/",
          "height": 35
        }
      },
      "source": [
        "from google.colab import drive\n",
        "drive.mount(\"/content/gdrive\")"
      ],
      "execution_count": 3,
      "outputs": [
        {
          "output_type": "stream",
          "text": [
            "Drive already mounted at /content/gdrive; to attempt to forcibly remount, call drive.mount(\"/content/gdrive\", force_remount=True).\n"
          ],
          "name": "stdout"
        }
      ]
    },
    {
      "cell_type": "code",
      "metadata": {
        "id": "7zyfQu4d4AJW",
        "colab_type": "code",
        "outputId": "4ef7cbb1-2bbb-4796-85ac-0cb305bd2fbb",
        "colab": {
          "base_uri": "https://localhost:8080/",
          "height": 35
        }
      },
      "source": [
        "os.getcwd()"
      ],
      "execution_count": 4,
      "outputs": [
        {
          "output_type": "execute_result",
          "data": {
            "text/plain": [
              "'/content'"
            ]
          },
          "metadata": {
            "tags": []
          },
          "execution_count": 4
        }
      ]
    },
    {
      "cell_type": "code",
      "metadata": {
        "id": "m-G3AfsQ4WFp",
        "colab_type": "code",
        "colab": {}
      },
      "source": [
        "path = '/content/gdrive/My Drive/data/data'\n",
        "os.chdir(path)"
      ],
      "execution_count": 0,
      "outputs": []
    },
    {
      "cell_type": "code",
      "metadata": {
        "id": "j-iTeeW_4hKU",
        "colab_type": "code",
        "outputId": "abb61ea0-7a4d-41d1-ec31-ab44cee66221",
        "colab": {
          "base_uri": "https://localhost:8080/",
          "height": 35
        }
      },
      "source": [
        "os.getcwd()"
      ],
      "execution_count": 6,
      "outputs": [
        {
          "output_type": "execute_result",
          "data": {
            "text/plain": [
              "'/content/gdrive/My Drive/data/data'"
            ]
          },
          "metadata": {
            "tags": []
          },
          "execution_count": 6
        }
      ]
    },
    {
      "cell_type": "code",
      "metadata": {
        "id": "pk4hXhbB4j8d",
        "colab_type": "code",
        "colab": {}
      },
      "source": [
        "import librosa   #for audio processing\n",
        "import IPython.display as ipd\n",
        "import matplotlib.pyplot as plt\n",
        "import soundfile as sf\n",
        "import numpy as np\n",
        "from scipy.io import wavfile #for audio processing\n",
        "import warnings\n",
        "warnings.filterwarnings(\"ignore\")"
      ],
      "execution_count": 0,
      "outputs": []
    },
    {
      "cell_type": "code",
      "metadata": {
        "id": "-Kd5eT8f4n3J",
        "colab_type": "code",
        "colab": {}
      },
      "source": [
        "def graph_spectrogram(wav_file):\n",
        "    rate, data = get_wav_info(wav_file)\n",
        "    nfft = 200 # Length of each window segment\n",
        "    fs = 8000 # Sampling frequencies\n",
        "    noverlap = 120 # Overlap between windows\n",
        "    nchannels = data.ndim\n",
        "    if nchannels == 1:\n",
        "        pxx, freqs, bins, im = plt.specgram(data, nfft, fs, noverlap = noverlap)\n",
        "    elif nchannels == 2:\n",
        "        pxx, freqs, bins, im = plt.specgram(data[:,0], nfft, fs, noverlap = noverlap)\n",
        "    return pxx\n",
        "\n",
        "# Load a wav file\n",
        "def get_wav_info(wav_file):\n",
        "    data,rate = sf.read(wav_file)\n",
        "    return rate, data\n"
      ],
      "execution_count": 0,
      "outputs": []
    },
    {
      "cell_type": "code",
      "metadata": {
        "id": "NubaRb-74sAp",
        "colab_type": "code",
        "outputId": "5826324f-1c5a-4df2-fe1c-10b22d755753",
        "colab": {
          "base_uri": "https://localhost:8080/",
          "height": 269
        }
      },
      "source": [
        "labels = []\n",
        "file_names = []\n",
        "samples = []\n",
        "\n",
        "for direc in os.listdir(path):\n",
        "    for subdir in os.listdir(path +\"/\" + direc):\n",
        "        file = [ f for f in os.listdir(path + '/' + direc + \"/\" + subdir) if f.endswith('.txt')]\n",
        "        for f in file:\n",
        "            with open(path + \"/\" + direc + \"/\" + subdir  +'/' +f ,'r') as txtfile:\n",
        "                data = txtfile.read()\n",
        "                sentence = data.lower().split('\\n')\n",
        "                for sent in sentence:\n",
        "                    sent = sent.split(\" \",1)\n",
        "                    if len(sent) == 2:\n",
        "                        file_names.append(sent[0])\n",
        "                        sample = graph_spectrogram(path + \"/\" + direc + \"/\" + subdir  +'/'+ sent[0] +'.flac')\n",
        "                        samples.append(sample)\n",
        "                        labels.append(sent[1])\n",
        "                    else:\n",
        "                        continue\n",
        "                    if(len(samples)) > 500:\n",
        "                      break\n",
        "                        "
      ],
      "execution_count": 9,
      "outputs": [
        {
          "output_type": "display_data",
          "data": {
            "image/png": "[encoded data removed]",
            "text/plain": [
              "<Figure size 432x288 with 1 Axes>"
            ]
          },
          "metadata": {
            "tags": [],
            "needs_background": "light"
          }
        }
      ]
    },
    {
      "cell_type": "code",
      "metadata": {
        "id": "RG6Io_Nj4xrU",
        "colab_type": "code",
        "outputId": "d076e422-359c-436f-e4c0-68091c95bf4d",
        "colab": {
          "base_uri": "https://localhost:8080/",
          "height": 35
        }
      },
      "source": [
        "len(labels)"
      ],
      "execution_count": 10,
      "outputs": [
        {
          "output_type": "execute_result",
          "data": {
            "text/plain": [
              "557"
            ]
          },
          "metadata": {
            "tags": []
          },
          "execution_count": 10
        }
      ]
    },
    {
      "cell_type": "code",
      "metadata": {
        "id": "NiiHIf2K5vp7",
        "colab_type": "code",
        "outputId": "204554d5-1823-4186-83a5-09e7a300a8ad",
        "colab": {
          "base_uri": "https://localhost:8080/",
          "height": 35
        }
      },
      "source": [
        "len(samples)"
      ],
      "execution_count": 11,
      "outputs": [
        {
          "output_type": "execute_result",
          "data": {
            "text/plain": [
              "557"
            ]
          },
          "metadata": {
            "tags": []
          },
          "execution_count": 11
        }
      ]
    },
    {
      "cell_type": "code",
      "metadata": {
        "id": "_KfgrroF6WI_",
        "colab_type": "code",
        "outputId": "829b9f1b-4696-4070-996a-967ed5fa7542",
        "colab": {
          "base_uri": "https://localhost:8080/",
          "height": 35
        }
      },
      "source": [
        "max_len = 0\n",
        "for sam in samples:\n",
        "  if sam.shape[1] > max_len:\n",
        "    max_len = sam.shape[1]\n",
        "\n",
        "print(max_len)\n"
      ],
      "execution_count": 12,
      "outputs": [
        {
          "output_type": "stream",
          "text": [
            "5596\n"
          ],
          "name": "stdout"
        }
      ]
    },
    {
      "cell_type": "code",
      "metadata": {
        "id": "wWP-k2U69i_j",
        "colab_type": "code",
        "outputId": "ca338fc9-34a1-4d70-c297-0ffcc62204d1",
        "colab": {
          "base_uri": "https://localhost:8080/",
          "height": 55
        }
      },
      "source": [
        "labels[2]"
      ],
      "execution_count": 13,
      "outputs": [
        {
          "output_type": "execute_result",
          "data": {
            "text/plain": [
              "'such crimes would have deserved the animadversion of the magistrate but in this promiscuous outrage the innocent were confounded with the guilty and alexandria was impoverished by the loss of a wealthy and industrious colony'"
            ]
          },
          "metadata": {
            "tags": []
          },
          "execution_count": 13
        }
      ]
    },
    {
      "cell_type": "code",
      "metadata": {
        "id": "TXUfpd9E8lSO",
        "colab_type": "code",
        "colab": {
          "base_uri": "https://localhost:8080/",
          "height": 35
        },
        "outputId": "acd6e2dc-0d96-4349-8a36-28c4279fa8e6"
      },
      "source": [
        "new_samples = []\n",
        "count = 0\n",
        "for sam in samples:\n",
        "  a = np.zeros((101,max_len))\n",
        "  a[:,:sam.shape[1]] = sam\n",
        "  new_samples.append(a)\n",
        "  count +=1\n",
        "\n",
        "print(count)\n"
      ],
      "execution_count": 14,
      "outputs": [
        {
          "output_type": "stream",
          "text": [
            "557\n"
          ],
          "name": "stdout"
        }
      ]
    },
    {
      "cell_type": "code",
      "metadata": {
        "id": "PHv0fuy2-B0h",
        "colab_type": "code",
        "outputId": "1feb7c99-1e6f-46d2-a582-6e2b6fd30fa6",
        "colab": {
          "base_uri": "https://localhost:8080/",
          "height": 35
        }
      },
      "source": [
        "new_samples = np.array(new_samples)\n",
        "new_samples = new_samples.reshape(557,101,5596,1)\n",
        "print(new_samples.shape)\n",
        "\n",
        "\n"
      ],
      "execution_count": 15,
      "outputs": [
        {
          "output_type": "stream",
          "text": [
            "(557, 101, 5596, 1)\n"
          ],
          "name": "stdout"
        }
      ]
    },
    {
      "cell_type": "code",
      "metadata": {
        "id": "Un2meWtw_mI5",
        "colab_type": "code",
        "colab": {}
      },
      "source": [
        "max_label = 0\n",
        "for label in labels:\n",
        "  if len(label) > max_label:\n",
        "    max_label = len(label) \n",
        "\n"
      ],
      "execution_count": 0,
      "outputs": []
    },
    {
      "cell_type": "code",
      "metadata": {
        "id": "1X5TGoRnEPni",
        "colab_type": "code",
        "colab": {
          "base_uri": "https://localhost:8080/",
          "height": 35
        },
        "outputId": "92b77c9f-ea4c-4fd4-ab55-c0c5b94ce6aa"
      },
      "source": [
        "print(max_label)"
      ],
      "execution_count": 17,
      "outputs": [
        {
          "output_type": "stream",
          "text": [
            "396\n"
          ],
          "name": "stdout"
        }
      ]
    },
    {
      "cell_type": "code",
      "metadata": {
        "id": "qq2gjns8ESGU",
        "colab_type": "code",
        "colab": {}
      },
      "source": [
        "import numpy as np\n",
        "\n",
        "#%%\n",
        "# From Baidu ba-dls-deepspeech - https://github.com/baidu-research/ba-dls-deepspeech\n",
        "# Character map list\n",
        "\n",
        "char_map_str = \"\"\"\n",
        "<SPACE> 0\n",
        "a 1\n",
        "b 2\n",
        "c 3\n",
        "d 4\n",
        "e 5\n",
        "f 6\n",
        "g 7\n",
        "h 8\n",
        "i 9\n",
        "j 10\n",
        "k 11\n",
        "l 12\n",
        "m 13\n",
        "n 14\n",
        "o 15\n",
        "p 16\n",
        "q 17\n",
        "r 18\n",
        "s 19\n",
        "t 20\n",
        "u 21\n",
        "v 22\n",
        "w 23\n",
        "x 24\n",
        "y 25\n",
        "z 26\n",
        "' 27\n",
        "\"\"\"\n",
        "\n",
        "char_map = {}\n",
        "index_map = {}\n",
        "\n",
        "for line in char_map_str.strip().split('\\n'):\n",
        "    ch, index = line.split()\n",
        "    char_map[ch] = int(index)\n",
        "    index_map[int(index)] = ch\n",
        "\n",
        "index_map[0] = ' '\n",
        "\n",
        "\n",
        "def get_param(Y):\n",
        "  labels = np.zeros((557,396))\n",
        "\n",
        "  for idx,label in enumerate(Y):\n",
        "    new = []\n",
        "    for word in label.split():\n",
        "      for c in word:\n",
        "        if c not in char_map:\n",
        "          continue\n",
        "        elif c == \"'\":\n",
        "          continue\n",
        "        else:\n",
        "          ch = char_map[c]\n",
        "          new.append(ch)\n",
        "      if(len(new) < max_label):\n",
        "        new.append(0)\n",
        "    while(len(new) < max_label):\n",
        "      new.append(27)\n",
        "    labels[idx,:] = np.array(new)\n",
        "\n",
        "  input_length = np.array([max_label for _ in Y])\n",
        "  label_length = np.array([max_label for _ in Y])\n",
        "\n",
        "\n",
        "  return labels , input_length , label_length           "
      ],
      "execution_count": 0,
      "outputs": []
    },
    {
      "cell_type": "code",
      "metadata": {
        "id": "_6hsTG26Msd5",
        "colab_type": "code",
        "colab": {
          "base_uri": "https://localhost:8080/",
          "height": 521
        },
        "outputId": "4684aa94-aed2-484b-bdbc-35f23730eb94"
      },
      "source": [
        "char_map\n"
      ],
      "execution_count": 19,
      "outputs": [
        {
          "output_type": "execute_result",
          "data": {
            "text/plain": [
              "{\"'\": 27,\n",
              " '<SPACE>': 0,\n",
              " 'a': 1,\n",
              " 'b': 2,\n",
              " 'c': 3,\n",
              " 'd': 4,\n",
              " 'e': 5,\n",
              " 'f': 6,\n",
              " 'g': 7,\n",
              " 'h': 8,\n",
              " 'i': 9,\n",
              " 'j': 10,\n",
              " 'k': 11,\n",
              " 'l': 12,\n",
              " 'm': 13,\n",
              " 'n': 14,\n",
              " 'o': 15,\n",
              " 'p': 16,\n",
              " 'q': 17,\n",
              " 'r': 18,\n",
              " 's': 19,\n",
              " 't': 20,\n",
              " 'u': 21,\n",
              " 'v': 22,\n",
              " 'w': 23,\n",
              " 'x': 24,\n",
              " 'y': 25,\n",
              " 'z': 26}"
            ]
          },
          "metadata": {
            "tags": []
          },
          "execution_count": 19
        }
      ]
    },
    {
      "cell_type": "code",
      "metadata": {
        "id": "LkYWl7LyEZe_",
        "colab_type": "code",
        "colab": {}
      },
      "source": [
        "from keras.layers import *\n",
        "from keras.layers.wrappers import TimeDistributed\n",
        "from keras.layers.merge import Add\n",
        "from keras.layers.normalization import BatchNormalization\n",
        "from keras.models import Model\n",
        "from keras import backend as K\n",
        "from keras.utils import plot_model\n",
        "\n",
        "def ctc_lambda_func(args):\n",
        "    y_pred, labels, input_length, label_length = args    \n",
        "    return K.ctc_batch_cost(labels, y_pred, input_length, label_length )    \n",
        "    \n",
        "        \n",
        "#%%\n",
        "class CTC():\n",
        "    \"\"\"\n",
        "    Usage:\n",
        "        sr_ctc = CTC(enter input_size and output_size)\n",
        "        sr_ctc.build()\n",
        "        sr_ctc.m.compile()\n",
        "        sr_ctc.tm.compile()\n",
        "    \"\"\"       \n",
        "    def __init__(self,\n",
        "                 input_size=None, \n",
        "                 output_size=None,\n",
        "                 initializer='glorot_uniform'):\n",
        "        self.input_size = input_size\n",
        "        self.output_size = output_size\n",
        "        self.initializer = initializer\n",
        "        self.m = None\n",
        "        self.tm = None\n",
        "                   \n",
        "    def build(self, \n",
        "              conv_filters = 396,\n",
        "              conv2d_filters = 5,\n",
        "              conv_size = 5,\n",
        "              conv_strides = 1,\n",
        "              act = 'relu',\n",
        "              rnn_layers = 2,\n",
        "              LSTM_units = 128,\n",
        "              drop_out = 0.8):\n",
        "           \n",
        "        i = Input(shape = self.input_size, name = 'input')\n",
        "        x = Conv2D(conv2d_filters,\n",
        "                   conv_size,\n",
        "                   strides = (conv_strides, conv_strides),\n",
        "                   padding = \"same\",\n",
        "                   name = \"conv2d1\")(i)\n",
        "        x = BatchNormalization()(x)\n",
        "        x = Activation(act)(x)\n",
        "        x = Conv2D(conv2d_filters,\n",
        "                   conv_size,\n",
        "                   strides = (conv_strides , conv_strides),\n",
        "                   padding = \"same\",\n",
        "                   name = \"conv2d2\")(x)\n",
        "        x = BatchNormalization()(x)\n",
        "        x = Activation(act)(x)\n",
        "        x = Reshape([101,-1])(x)\n",
        "        x = Conv1D(conv_filters, \n",
        "                   conv_size, \n",
        "                   strides = conv_strides,\n",
        "                   padding = \"same\", \n",
        "                   name = 'conv1d1')(x)\n",
        "        x = BatchNormalization()(x)\n",
        "        x = Activation(act)(x)\n",
        "        x = Conv1D(conv_filters, \n",
        "                   conv_size, \n",
        "                   strides = conv_strides,\n",
        "                   padding = \"same\", \n",
        "                   name = 'conv1d2')(x)\n",
        "        x = BatchNormalization()(x)\n",
        "        x = Activation(act)(x)\n",
        "        x = Dense(396 , activation=\"softmax\", name =\"dense\")(x)\n",
        "        x = Reshape([396,-1])(x)\n",
        "        for _ in range(rnn_layers):          \n",
        "            x = Bidirectional(LSTM(LSTM_units, \n",
        "                                   return_sequences = True))(x)\n",
        "            x = Dropout(drop_out)(x)\n",
        "            x = BatchNormalization()(x)\n",
        "        y_pred = TimeDistributed(Dense(self.output_size, \n",
        "                                       activation = 'softmax'))(x)        \n",
        "        # ctc inputs\n",
        "        labels = Input(name='the_labels', shape=[None,], dtype='int32')\n",
        "        input_length = Input(name='input_length', shape=[1], dtype='int32')\n",
        "        label_length = Input(name='label_length', shape=[1], dtype='int32')    \n",
        "        # Keras doesn't currently support loss funcs with extra parameters\n",
        "        # so CTC loss is implemented in a lambda layer\n",
        "        loss_out = Lambda(ctc_lambda_func, \n",
        "                          output_shape=(1,), \n",
        "                          name='ctc')([y_pred,\n",
        "                                        labels,\n",
        "                                        input_length,\n",
        "                                        label_length])        \n",
        "        self.tm = Model(inputs = i,\n",
        "                        outputs = y_pred)\n",
        "        self.m = Model(inputs = [i, \n",
        "                                 labels, \n",
        "                                 input_length, \n",
        "                                 label_length], \n",
        "                        outputs = loss_out)\n",
        "        return self.m, self.tm\n"
      ],
      "execution_count": 0,
      "outputs": []
    },
    {
      "cell_type": "code",
      "metadata": {
        "id": "07YGUbcVF5SC",
        "colab_type": "code",
        "colab": {}
      },
      "source": [
        "def ctc(y_true, y_pred):\n",
        "    return y_pred"
      ],
      "execution_count": 0,
      "outputs": []
    },
    {
      "cell_type": "code",
      "metadata": {
        "id": "9tHcDuciGKsg",
        "colab_type": "code",
        "colab": {
          "base_uri": "https://localhost:8080/",
          "height": 53
        },
        "outputId": "1cf5e8ca-85df-4e26-8c54-a3955b9a9cba"
      },
      "source": [
        "sr_ctc = CTC((101,5596,1), 28)\n",
        "sr_ctc.build()"
      ],
      "execution_count": 29,
      "outputs": [
        {
          "output_type": "execute_result",
          "data": {
            "text/plain": [
              "(<keras.engine.training.Model at 0x7fbc1bcecef0>,\n",
              " <keras.engine.training.Model at 0x7fbc1bce4390>)"
            ]
          },
          "metadata": {
            "tags": []
          },
          "execution_count": 29
        }
      ]
    },
    {
      "cell_type": "code",
      "metadata": {
        "id": "z4C06XYvGQ9t",
        "colab_type": "code",
        "colab": {
          "base_uri": "https://localhost:8080/",
          "height": 1000
        },
        "outputId": "3381943d-9093-48d1-a2d4-7f7119f2a048"
      },
      "source": [
        "sr_ctc.m.summary()"
      ],
      "execution_count": 30,
      "outputs": [
        {
          "output_type": "stream",
          "text": [
            "Model: \"model_3\"\n",
            "__________________________________________________________________________________________________\n",
            "Layer (type)                    Output Shape         Param #     Connected to                     \n",
            "==================================================================================================\n",
            "input (InputLayer)              (None, 101, 5596, 1) 0                                            \n",
            "__________________________________________________________________________________________________\n",
            "conv2d1 (Conv2D)                (None, 101, 5596, 5) 130         input[0][0]                      \n",
            "__________________________________________________________________________________________________\n",
            "batch_normalization_7 (BatchNor (None, 101, 5596, 5) 20          conv2d1[0][0]                    \n",
            "__________________________________________________________________________________________________\n",
            "activation_5 (Activation)       (None, 101, 5596, 5) 0           batch_normalization_7[0][0]      \n",
            "__________________________________________________________________________________________________\n",
            "conv2d2 (Conv2D)                (None, 101, 5596, 5) 630         activation_5[0][0]               \n",
            "__________________________________________________________________________________________________\n",
            "batch_normalization_8 (BatchNor (None, 101, 5596, 5) 20          conv2d2[0][0]                    \n",
            "__________________________________________________________________________________________________\n",
            "activation_6 (Activation)       (None, 101, 5596, 5) 0           batch_normalization_8[0][0]      \n",
            "__________________________________________________________________________________________________\n",
            "reshape_3 (Reshape)             (None, 101, 27980)   0           activation_6[0][0]               \n",
            "__________________________________________________________________________________________________\n",
            "conv1d1 (Conv1D)                (None, 101, 396)     55400796    reshape_3[0][0]                  \n",
            "__________________________________________________________________________________________________\n",
            "batch_normalization_9 (BatchNor (None, 101, 396)     1584        conv1d1[0][0]                    \n",
            "__________________________________________________________________________________________________\n",
            "activation_7 (Activation)       (None, 101, 396)     0           batch_normalization_9[0][0]      \n",
            "__________________________________________________________________________________________________\n",
            "conv1d2 (Conv1D)                (None, 101, 396)     784476      activation_7[0][0]               \n",
            "__________________________________________________________________________________________________\n",
            "batch_normalization_10 (BatchNo (None, 101, 396)     1584        conv1d2[0][0]                    \n",
            "__________________________________________________________________________________________________\n",
            "activation_8 (Activation)       (None, 101, 396)     0           batch_normalization_10[0][0]     \n",
            "__________________________________________________________________________________________________\n",
            "dense (Dense)                   (None, 101, 396)     157212      activation_8[0][0]               \n",
            "__________________________________________________________________________________________________\n",
            "reshape_4 (Reshape)             (None, 396, 101)     0           dense[0][0]                      \n",
            "__________________________________________________________________________________________________\n",
            "bidirectional_3 (Bidirectional) (None, 396, 256)     235520      reshape_4[0][0]                  \n",
            "__________________________________________________________________________________________________\n",
            "dropout_3 (Dropout)             (None, 396, 256)     0           bidirectional_3[0][0]            \n",
            "__________________________________________________________________________________________________\n",
            "batch_normalization_11 (BatchNo (None, 396, 256)     1024        dropout_3[0][0]                  \n",
            "__________________________________________________________________________________________________\n",
            "bidirectional_4 (Bidirectional) (None, 396, 256)     394240      batch_normalization_11[0][0]     \n",
            "__________________________________________________________________________________________________\n",
            "dropout_4 (Dropout)             (None, 396, 256)     0           bidirectional_4[0][0]            \n",
            "__________________________________________________________________________________________________\n",
            "batch_normalization_12 (BatchNo (None, 396, 256)     1024        dropout_4[0][0]                  \n",
            "__________________________________________________________________________________________________\n",
            "time_distributed_2 (TimeDistrib (None, 396, 28)      7196        batch_normalization_12[0][0]     \n",
            "__________________________________________________________________________________________________\n",
            "the_labels (InputLayer)         (None, None)         0                                            \n",
            "__________________________________________________________________________________________________\n",
            "input_length (InputLayer)       (None, 1)            0                                            \n",
            "__________________________________________________________________________________________________\n",
            "label_length (InputLayer)       (None, 1)            0                                            \n",
            "__________________________________________________________________________________________________\n",
            "ctc (Lambda)                    (None, 1)            0           time_distributed_2[0][0]         \n",
            "                                                                 the_labels[0][0]                 \n",
            "                                                                 input_length[0][0]               \n",
            "                                                                 label_length[0][0]               \n",
            "==================================================================================================\n",
            "Total params: 56,985,456\n",
            "Trainable params: 56,982,828\n",
            "Non-trainable params: 2,628\n",
            "__________________________________________________________________________________________________\n"
          ],
          "name": "stdout"
        }
      ]
    },
    {
      "cell_type": "code",
      "metadata": {
        "id": "VPLa5YjQGRit",
        "colab_type": "code",
        "colab": {}
      },
      "source": [
        "sr_ctc.m.compile(loss = ctc, optimizer = 'adam', metrics = ['accuracy'])\n",
        "sr_ctc.tm.compile(loss = ctc, optimizer = 'adam')\n"
      ],
      "execution_count": 0,
      "outputs": []
    },
    {
      "cell_type": "code",
      "metadata": {
        "id": "doQF2mmGGjJ4",
        "colab_type": "code",
        "colab": {}
      },
      "source": [
        "labels_train, input_length, label_length = get_param(Y = labels)\n",
        "labels_val, input_length_val, label_length_val = get_param(Y = labels)\n"
      ],
      "execution_count": 0,
      "outputs": []
    },
    {
      "cell_type": "code",
      "metadata": {
        "id": "gi0umybhND9v",
        "colab_type": "code",
        "colab": {
          "base_uri": "https://localhost:8080/",
          "height": 413
        },
        "outputId": "62d03288-26d1-4bff-97af-225c484d9713"
      },
      "source": [
        "print(labels_train[0])"
      ],
      "execution_count": 35,
      "outputs": [
        {
          "output_type": "stream",
          "text": [
            "[ 1. 18.  4.  5. 14. 20.  0.  9. 14.  0. 20.  8.  5.  0. 16. 18. 15. 19.\n",
            "  5.  3. 21. 20.  9. 15. 14.  0. 15.  6.  0.  8.  5. 18.  5. 19. 25.  0.\n",
            "  3. 25. 18.  9. 12.  0.  1. 21. 19. 16.  9.  3.  9. 15. 21. 19. 12. 25.\n",
            "  0. 15. 16.  5. 14.  5.  4.  0.  8.  9. 19.  0. 18.  5.  9.  7. 14.  0.\n",
            "  2. 25.  0. 15. 16. 16. 18.  5. 19. 19.  9. 14.  7.  0. 20.  8.  5.  0.\n",
            " 14. 15. 22.  1. 20.  9.  1. 14. 19.  0. 20.  8.  5.  0. 13. 15. 19. 20.\n",
            "  0.  9. 14. 14. 15.  3.  5. 14. 20.  0.  1. 14.  4.  0.  8.  1. 18. 13.\n",
            " 12.  5. 19. 19.  0. 15.  6.  0. 20.  8.  5.  0. 19.  5.  3. 20.  1. 18.\n",
            "  9.  5. 19.  0. 27. 27. 27. 27. 27. 27. 27. 27. 27. 27. 27. 27. 27. 27.\n",
            " 27. 27. 27. 27. 27. 27. 27. 27. 27. 27. 27. 27. 27. 27. 27. 27. 27. 27.\n",
            " 27. 27. 27. 27. 27. 27. 27. 27. 27. 27. 27. 27. 27. 27. 27. 27. 27. 27.\n",
            " 27. 27. 27. 27. 27. 27. 27. 27. 27. 27. 27. 27. 27. 27. 27. 27. 27. 27.\n",
            " 27. 27. 27. 27. 27. 27. 27. 27. 27. 27. 27. 27. 27. 27. 27. 27. 27. 27.\n",
            " 27. 27. 27. 27. 27. 27. 27. 27. 27. 27. 27. 27. 27. 27. 27. 27. 27. 27.\n",
            " 27. 27. 27. 27. 27. 27. 27. 27. 27. 27. 27. 27. 27. 27. 27. 27. 27. 27.\n",
            " 27. 27. 27. 27. 27. 27. 27. 27. 27. 27. 27. 27. 27. 27. 27. 27. 27. 27.\n",
            " 27. 27. 27. 27. 27. 27. 27. 27. 27. 27. 27. 27. 27. 27. 27. 27. 27. 27.\n",
            " 27. 27. 27. 27. 27. 27. 27. 27. 27. 27. 27. 27. 27. 27. 27. 27. 27. 27.\n",
            " 27. 27. 27. 27. 27. 27. 27. 27. 27. 27. 27. 27. 27. 27. 27. 27. 27. 27.\n",
            " 27. 27. 27. 27. 27. 27. 27. 27. 27. 27. 27. 27. 27. 27. 27. 27. 27. 27.\n",
            " 27. 27. 27. 27. 27. 27. 27. 27. 27. 27. 27. 27. 27. 27. 27. 27. 27. 27.\n",
            " 27. 27. 27. 27. 27. 27. 27. 27. 27. 27. 27. 27. 27. 27. 27. 27. 27. 27.]\n"
          ],
          "name": "stdout"
        }
      ]
    },
    {
      "cell_type": "code",
      "metadata": {
        "id": "vVXDFyVN4Afl",
        "colab_type": "code",
        "colab": {
          "base_uri": "https://localhost:8080/",
          "height": 53
        },
        "outputId": "de9aa6cb-f6dd-4803-e5f5-4f9870103d88"
      },
      "source": [
        "print(type(labels_train[1]))\n",
        "print(\"labels\" ,labels_train.shape ,\" \",input_length.shape ,\" \", label_length.shape)"
      ],
      "execution_count": 36,
      "outputs": [
        {
          "output_type": "stream",
          "text": [
            "<class 'numpy.ndarray'>\n",
            "labels (557, 396)   (557,)   (557,)\n"
          ],
          "name": "stdout"
        }
      ]
    },
    {
      "cell_type": "code",
      "metadata": {
        "id": "Lt22pIaxGlxS",
        "colab_type": "code",
        "colab": {
          "base_uri": "https://localhost:8080/",
          "height": 448
        },
        "outputId": "6a691670-77e4-48c4-d7b6-ac52f6d23c0d"
      },
      "source": [
        " history = sr_ctc.m.fit([new_samples, \n",
        "                            labels_train, \n",
        "                            input_length, \n",
        "                            label_length], \n",
        "                       np.zeros([len(labels_train)]), \n",
        "                       batch_size = 10, \n",
        "                       epochs = 20, \n",
        "                       validation_data = ([new_samples, \n",
        "                                           labels_val, \n",
        "                                           input_length_val, \n",
        "                                           label_length_val],\n",
        "                                          np.zeros([len(labels_val)])), \n",
        "                      #  callbacks = [checkpointer], \n",
        "                       verbose = 1\n",
        "                      #  , shuffle = True\n",
        "                       )"
      ],
      "execution_count": 37,
      "outputs": [
        {
          "output_type": "stream",
          "text": [
            "Train on 557 samples, validate on 557 samples\n",
            "Epoch 1/20\n",
            " 90/557 [===>..........................] - ETA: 15:07 - loss: 1046.1497 - accuracy: 0.0000e+00"
          ],
          "name": "stdout"
        },
        {
          "output_type": "error",
          "ename": "KeyboardInterrupt",
          "evalue": "ignored",
          "traceback": [
            "\u001b[0;31m---------------------------------------------------------------------------\u001b[0m",
            "\u001b[0;31mKeyboardInterrupt\u001b[0m                         Traceback (most recent call last)",
            "\u001b[0;32m<ipython-input-37-b425a51948f1>\u001b[0m in \u001b[0;36m<module>\u001b[0;34m()\u001b[0m\n\u001b[1;32m     12\u001b[0m                                          np.zeros([len(labels_val)])), \n\u001b[1;32m     13\u001b[0m                      \u001b[0;31m#  callbacks = [checkpointer],\u001b[0m\u001b[0;34m\u001b[0m\u001b[0;34m\u001b[0m\u001b[0;34m\u001b[0m\u001b[0m\n\u001b[0;32m---> 14\u001b[0;31m                       \u001b[0mverbose\u001b[0m \u001b[0;34m=\u001b[0m \u001b[0;36m1\u001b[0m\u001b[0;34m\u001b[0m\u001b[0;34m\u001b[0m\u001b[0m\n\u001b[0m\u001b[1;32m     15\u001b[0m                      \u001b[0;31m#  , shuffle = True\u001b[0m\u001b[0;34m\u001b[0m\u001b[0;34m\u001b[0m\u001b[0;34m\u001b[0m\u001b[0m\n\u001b[1;32m     16\u001b[0m                       )\n",
            "\u001b[0;32m/usr/local/lib/python3.6/dist-packages/keras/engine/training.py\u001b[0m in \u001b[0;36mfit\u001b[0;34m(self, x, y, batch_size, epochs, verbose, callbacks, validation_split, validation_data, shuffle, class_weight, sample_weight, initial_epoch, steps_per_epoch, validation_steps, validation_freq, max_queue_size, workers, use_multiprocessing, **kwargs)\u001b[0m\n\u001b[1;32m   1237\u001b[0m                                         \u001b[0msteps_per_epoch\u001b[0m\u001b[0;34m=\u001b[0m\u001b[0msteps_per_epoch\u001b[0m\u001b[0;34m,\u001b[0m\u001b[0;34m\u001b[0m\u001b[0;34m\u001b[0m\u001b[0m\n\u001b[1;32m   1238\u001b[0m                                         \u001b[0mvalidation_steps\u001b[0m\u001b[0;34m=\u001b[0m\u001b[0mvalidation_steps\u001b[0m\u001b[0;34m,\u001b[0m\u001b[0;34m\u001b[0m\u001b[0;34m\u001b[0m\u001b[0m\n\u001b[0;32m-> 1239\u001b[0;31m                                         validation_freq=validation_freq)\n\u001b[0m\u001b[1;32m   1240\u001b[0m \u001b[0;34m\u001b[0m\u001b[0m\n\u001b[1;32m   1241\u001b[0m     def evaluate(self,\n",
            "\u001b[0;32m/usr/local/lib/python3.6/dist-packages/keras/engine/training_arrays.py\u001b[0m in \u001b[0;36mfit_loop\u001b[0;34m(model, fit_function, fit_inputs, out_labels, batch_size, epochs, verbose, callbacks, val_function, val_inputs, shuffle, initial_epoch, steps_per_epoch, validation_steps, validation_freq)\u001b[0m\n\u001b[1;32m    194\u001b[0m                     \u001b[0mins_batch\u001b[0m\u001b[0;34m[\u001b[0m\u001b[0mi\u001b[0m\u001b[0;34m]\u001b[0m \u001b[0;34m=\u001b[0m \u001b[0mins_batch\u001b[0m\u001b[0;34m[\u001b[0m\u001b[0mi\u001b[0m\u001b[0;34m]\u001b[0m\u001b[0;34m.\u001b[0m\u001b[0mtoarray\u001b[0m\u001b[0;34m(\u001b[0m\u001b[0;34m)\u001b[0m\u001b[0;34m\u001b[0m\u001b[0;34m\u001b[0m\u001b[0m\n\u001b[1;32m    195\u001b[0m \u001b[0;34m\u001b[0m\u001b[0m\n\u001b[0;32m--> 196\u001b[0;31m                 \u001b[0mouts\u001b[0m \u001b[0;34m=\u001b[0m \u001b[0mfit_function\u001b[0m\u001b[0;34m(\u001b[0m\u001b[0mins_batch\u001b[0m\u001b[0;34m)\u001b[0m\u001b[0;34m\u001b[0m\u001b[0;34m\u001b[0m\u001b[0m\n\u001b[0m\u001b[1;32m    197\u001b[0m                 \u001b[0mouts\u001b[0m \u001b[0;34m=\u001b[0m \u001b[0mto_list\u001b[0m\u001b[0;34m(\u001b[0m\u001b[0mouts\u001b[0m\u001b[0;34m)\u001b[0m\u001b[0;34m\u001b[0m\u001b[0;34m\u001b[0m\u001b[0m\n\u001b[1;32m    198\u001b[0m                 \u001b[0;32mfor\u001b[0m \u001b[0ml\u001b[0m\u001b[0;34m,\u001b[0m \u001b[0mo\u001b[0m \u001b[0;32min\u001b[0m \u001b[0mzip\u001b[0m\u001b[0;34m(\u001b[0m\u001b[0mout_labels\u001b[0m\u001b[0;34m,\u001b[0m \u001b[0mouts\u001b[0m\u001b[0;34m)\u001b[0m\u001b[0;34m:\u001b[0m\u001b[0;34m\u001b[0m\u001b[0;34m\u001b[0m\u001b[0m\n",
            "\u001b[0;32m/usr/local/lib/python3.6/dist-packages/tensorflow/python/keras/backend.py\u001b[0m in \u001b[0;36m__call__\u001b[0;34m(self, inputs)\u001b[0m\n\u001b[1;32m   3790\u001b[0m         \u001b[0mvalue\u001b[0m \u001b[0;34m=\u001b[0m \u001b[0mmath_ops\u001b[0m\u001b[0;34m.\u001b[0m\u001b[0mcast\u001b[0m\u001b[0;34m(\u001b[0m\u001b[0mvalue\u001b[0m\u001b[0;34m,\u001b[0m \u001b[0mtensor\u001b[0m\u001b[0;34m.\u001b[0m\u001b[0mdtype\u001b[0m\u001b[0;34m)\u001b[0m\u001b[0;34m\u001b[0m\u001b[0;34m\u001b[0m\u001b[0m\n\u001b[1;32m   3791\u001b[0m       \u001b[0mconverted_inputs\u001b[0m\u001b[0;34m.\u001b[0m\u001b[0mappend\u001b[0m\u001b[0;34m(\u001b[0m\u001b[0mvalue\u001b[0m\u001b[0;34m)\u001b[0m\u001b[0;34m\u001b[0m\u001b[0;34m\u001b[0m\u001b[0m\n\u001b[0;32m-> 3792\u001b[0;31m     \u001b[0moutputs\u001b[0m \u001b[0;34m=\u001b[0m \u001b[0mself\u001b[0m\u001b[0;34m.\u001b[0m\u001b[0m_graph_fn\u001b[0m\u001b[0;34m(\u001b[0m\u001b[0;34m*\u001b[0m\u001b[0mconverted_inputs\u001b[0m\u001b[0;34m)\u001b[0m\u001b[0;34m\u001b[0m\u001b[0;34m\u001b[0m\u001b[0m\n\u001b[0m\u001b[1;32m   3793\u001b[0m \u001b[0;34m\u001b[0m\u001b[0m\n\u001b[1;32m   3794\u001b[0m     \u001b[0;31m# EagerTensor.numpy() will often make a copy to ensure memory safety.\u001b[0m\u001b[0;34m\u001b[0m\u001b[0;34m\u001b[0m\u001b[0;34m\u001b[0m\u001b[0m\n",
            "\u001b[0;32m/usr/local/lib/python3.6/dist-packages/tensorflow/python/eager/function.py\u001b[0m in \u001b[0;36m__call__\u001b[0;34m(self, *args, **kwargs)\u001b[0m\n\u001b[1;32m   1603\u001b[0m       \u001b[0mTypeError\u001b[0m\u001b[0;34m:\u001b[0m \u001b[0mFor\u001b[0m \u001b[0minvalid\u001b[0m \u001b[0mpositional\u001b[0m\u001b[0;34m/\u001b[0m\u001b[0mkeyword\u001b[0m \u001b[0margument\u001b[0m \u001b[0mcombinations\u001b[0m\u001b[0;34m.\u001b[0m\u001b[0;34m\u001b[0m\u001b[0;34m\u001b[0m\u001b[0m\n\u001b[1;32m   1604\u001b[0m     \"\"\"\n\u001b[0;32m-> 1605\u001b[0;31m     \u001b[0;32mreturn\u001b[0m \u001b[0mself\u001b[0m\u001b[0;34m.\u001b[0m\u001b[0m_call_impl\u001b[0m\u001b[0;34m(\u001b[0m\u001b[0margs\u001b[0m\u001b[0;34m,\u001b[0m \u001b[0mkwargs\u001b[0m\u001b[0;34m)\u001b[0m\u001b[0;34m\u001b[0m\u001b[0;34m\u001b[0m\u001b[0m\n\u001b[0m\u001b[1;32m   1606\u001b[0m \u001b[0;34m\u001b[0m\u001b[0m\n\u001b[1;32m   1607\u001b[0m   \u001b[0;32mdef\u001b[0m \u001b[0m_call_impl\u001b[0m\u001b[0;34m(\u001b[0m\u001b[0mself\u001b[0m\u001b[0;34m,\u001b[0m \u001b[0margs\u001b[0m\u001b[0;34m,\u001b[0m \u001b[0mkwargs\u001b[0m\u001b[0;34m,\u001b[0m \u001b[0mcancellation_manager\u001b[0m\u001b[0;34m=\u001b[0m\u001b[0;32mNone\u001b[0m\u001b[0;34m)\u001b[0m\u001b[0;34m:\u001b[0m\u001b[0;34m\u001b[0m\u001b[0;34m\u001b[0m\u001b[0m\n",
            "\u001b[0;32m/usr/local/lib/python3.6/dist-packages/tensorflow/python/eager/function.py\u001b[0m in \u001b[0;36m_call_impl\u001b[0;34m(self, args, kwargs, cancellation_manager)\u001b[0m\n\u001b[1;32m   1643\u001b[0m       raise TypeError(\"Keyword arguments {} unknown. Expected {}.\".format(\n\u001b[1;32m   1644\u001b[0m           list(kwargs.keys()), list(self._arg_keywords)))\n\u001b[0;32m-> 1645\u001b[0;31m     \u001b[0;32mreturn\u001b[0m \u001b[0mself\u001b[0m\u001b[0;34m.\u001b[0m\u001b[0m_call_flat\u001b[0m\u001b[0;34m(\u001b[0m\u001b[0margs\u001b[0m\u001b[0;34m,\u001b[0m \u001b[0mself\u001b[0m\u001b[0;34m.\u001b[0m\u001b[0mcaptured_inputs\u001b[0m\u001b[0;34m,\u001b[0m \u001b[0mcancellation_manager\u001b[0m\u001b[0;34m)\u001b[0m\u001b[0;34m\u001b[0m\u001b[0;34m\u001b[0m\u001b[0m\n\u001b[0m\u001b[1;32m   1646\u001b[0m \u001b[0;34m\u001b[0m\u001b[0m\n\u001b[1;32m   1647\u001b[0m   \u001b[0;32mdef\u001b[0m \u001b[0m_filtered_call\u001b[0m\u001b[0;34m(\u001b[0m\u001b[0mself\u001b[0m\u001b[0;34m,\u001b[0m \u001b[0margs\u001b[0m\u001b[0;34m,\u001b[0m \u001b[0mkwargs\u001b[0m\u001b[0;34m)\u001b[0m\u001b[0;34m:\u001b[0m\u001b[0;34m\u001b[0m\u001b[0;34m\u001b[0m\u001b[0m\n",
            "\u001b[0;32m/usr/local/lib/python3.6/dist-packages/tensorflow/python/eager/function.py\u001b[0m in \u001b[0;36m_call_flat\u001b[0;34m(self, args, captured_inputs, cancellation_manager)\u001b[0m\n\u001b[1;32m   1744\u001b[0m       \u001b[0;31m# No tape is watching; skip to running the function.\u001b[0m\u001b[0;34m\u001b[0m\u001b[0;34m\u001b[0m\u001b[0;34m\u001b[0m\u001b[0m\n\u001b[1;32m   1745\u001b[0m       return self._build_call_outputs(self._inference_function.call(\n\u001b[0;32m-> 1746\u001b[0;31m           ctx, args, cancellation_manager=cancellation_manager))\n\u001b[0m\u001b[1;32m   1747\u001b[0m     forward_backward = self._select_forward_and_backward_functions(\n\u001b[1;32m   1748\u001b[0m         \u001b[0margs\u001b[0m\u001b[0;34m,\u001b[0m\u001b[0;34m\u001b[0m\u001b[0;34m\u001b[0m\u001b[0m\n",
            "\u001b[0;32m/usr/local/lib/python3.6/dist-packages/tensorflow/python/eager/function.py\u001b[0m in \u001b[0;36mcall\u001b[0;34m(self, ctx, args, cancellation_manager)\u001b[0m\n\u001b[1;32m    596\u001b[0m               \u001b[0minputs\u001b[0m\u001b[0;34m=\u001b[0m\u001b[0margs\u001b[0m\u001b[0;34m,\u001b[0m\u001b[0;34m\u001b[0m\u001b[0;34m\u001b[0m\u001b[0m\n\u001b[1;32m    597\u001b[0m               \u001b[0mattrs\u001b[0m\u001b[0;34m=\u001b[0m\u001b[0mattrs\u001b[0m\u001b[0;34m,\u001b[0m\u001b[0;34m\u001b[0m\u001b[0;34m\u001b[0m\u001b[0m\n\u001b[0;32m--> 598\u001b[0;31m               ctx=ctx)\n\u001b[0m\u001b[1;32m    599\u001b[0m         \u001b[0;32melse\u001b[0m\u001b[0;34m:\u001b[0m\u001b[0;34m\u001b[0m\u001b[0;34m\u001b[0m\u001b[0m\n\u001b[1;32m    600\u001b[0m           outputs = execute.execute_with_cancellation(\n",
            "\u001b[0;32m/usr/local/lib/python3.6/dist-packages/tensorflow/python/eager/execute.py\u001b[0m in \u001b[0;36mquick_execute\u001b[0;34m(op_name, num_outputs, inputs, attrs, ctx, name)\u001b[0m\n\u001b[1;32m     58\u001b[0m     \u001b[0mctx\u001b[0m\u001b[0;34m.\u001b[0m\u001b[0mensure_initialized\u001b[0m\u001b[0;34m(\u001b[0m\u001b[0;34m)\u001b[0m\u001b[0;34m\u001b[0m\u001b[0;34m\u001b[0m\u001b[0m\n\u001b[1;32m     59\u001b[0m     tensors = pywrap_tfe.TFE_Py_Execute(ctx._handle, device_name, op_name,\n\u001b[0;32m---> 60\u001b[0;31m                                         inputs, attrs, num_outputs)\n\u001b[0m\u001b[1;32m     61\u001b[0m   \u001b[0;32mexcept\u001b[0m \u001b[0mcore\u001b[0m\u001b[0;34m.\u001b[0m\u001b[0m_NotOkStatusException\u001b[0m \u001b[0;32mas\u001b[0m \u001b[0me\u001b[0m\u001b[0;34m:\u001b[0m\u001b[0;34m\u001b[0m\u001b[0;34m\u001b[0m\u001b[0m\n\u001b[1;32m     62\u001b[0m     \u001b[0;32mif\u001b[0m \u001b[0mname\u001b[0m \u001b[0;32mis\u001b[0m \u001b[0;32mnot\u001b[0m \u001b[0;32mNone\u001b[0m\u001b[0;34m:\u001b[0m\u001b[0;34m\u001b[0m\u001b[0;34m\u001b[0m\u001b[0m\n",
            "\u001b[0;31mKeyboardInterrupt\u001b[0m: "
          ]
        }
      ]
    },
    {
      "cell_type": "code",
      "metadata": {
        "id": "GIySXxfleDqp",
        "colab_type": "code",
        "colab": {}
      },
      "source": [
        ""
      ],
      "execution_count": 0,
      "outputs": []
    },
    {
      "cell_type": "code",
      "metadata": {
        "id": "pLIbaQOijDzz",
        "colab_type": "code",
        "colab": {}
      },
      "source": [
        ""
      ],
      "execution_count": 0,
      "outputs": []
    }
  ]
}